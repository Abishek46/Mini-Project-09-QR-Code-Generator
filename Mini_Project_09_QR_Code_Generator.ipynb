{
  "nbformat": 4,
  "nbformat_minor": 0,
  "metadata": {
    "colab": {
      "provenance": [],
      "authorship_tag": "ABX9TyNHEylVfCBJC0KLXQAdD8F5",
      "include_colab_link": true
    },
    "kernelspec": {
      "name": "python3",
      "display_name": "Python 3"
    },
    "language_info": {
      "name": "python"
    }
  },
  "cells": [
    {
      "cell_type": "markdown",
      "metadata": {
        "id": "view-in-github",
        "colab_type": "text"
      },
      "source": [
        "<a href=\"https://colab.research.google.com/github/Abishek46/Mini-Project-09-QR-Code-Generator/blob/main/Mini_Project_09_QR_Code_Generator.ipynb\" target=\"_parent\"><img src=\"https://colab.research.google.com/assets/colab-badge.svg\" alt=\"Open In Colab\"/></a>"
      ]
    },
    {
      "cell_type": "code",
      "execution_count": 12,
      "metadata": {
        "colab": {
          "base_uri": "https://localhost:8080/"
        },
        "id": "Xq3Yk1XDdIPx",
        "outputId": "fe9699f9-2116-48e8-9be0-ff1681beb868"
      },
      "outputs": [
        {
          "output_type": "stream",
          "name": "stdout",
          "text": [
            "Requirement already satisfied: pyqrcode in /usr/local/lib/python3.10/dist-packages (1.2.1)\n",
            "Requirement already satisfied: pypng in /usr/local/lib/python3.10/dist-packages (0.20220715.0)\n"
          ]
        }
      ],
      "source": [
        "!pip install pyqrcode pypng"
      ]
    },
    {
      "cell_type": "code",
      "source": [
        "import pyqrcode"
      ],
      "metadata": {
        "id": "M_CLXH4PmJpP"
      },
      "execution_count": 10,
      "outputs": []
    },
    {
      "cell_type": "code",
      "source": [
        "# Define the data:\n",
        "# We need some text that we want to convert as our QR Code.\n",
        "# Since I am creating the QR Code for my github profile,\n",
        "# I will \"https://github.com/milaan9\" as data here. Let's store inside a variable.\n",
        "data = \"https://www.linkedin.com/in/abishek-p-b7a4a7229/\"\n",
        "\n",
        "# Create qrcode:\n",
        "# Now that we have the data with us, we can move forward and\n",
        "# make use of the package we just imported. Let's create an variable.\n",
        "# We will use the create method (as it results in a cleaner looking code) on data.\n",
        "qr = pyqrcode.create(data)\n",
        "\n",
        "# Save the qrcode in png format with proper scaling:\n",
        "# Now let's store it in .png format with proper scaling.\n",
        "qr.png(\"Linledin ABISHEK ID.png\", scale= 5)"
      ],
      "metadata": {
        "id": "AZTE6vfndY2G"
      },
      "execution_count": 13,
      "outputs": []
    }
  ]
}